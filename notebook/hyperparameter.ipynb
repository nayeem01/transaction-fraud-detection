{
  "nbformat": 4,
  "nbformat_minor": 0,
  "metadata": {
    "colab": {
      "name": "hyperparameter.ipynb",
      "provenance": [],
      "authorship_tag": "ABX9TyPeO7c+ibbQVT5M8NG7IcjQ",
      "include_colab_link": true
    },
    "kernelspec": {
      "name": "python3",
      "display_name": "Python 3"
    }
  },
  "cells": [
    {
      "cell_type": "markdown",
      "metadata": {
        "id": "view-in-github",
        "colab_type": "text"
      },
      "source": [
        "<a href=\"https://colab.research.google.com/github/nayeem01/transaction-fraud-detection/blob/main/notebook/hyperparameter.ipynb\" target=\"_parent\"><img src=\"https://colab.research.google.com/assets/colab-badge.svg\" alt=\"Open In Colab\"/></a>"
      ]
    },
    {
      "cell_type": "code",
      "metadata": {
        "id": "ZFQm7qiEpDHZ"
      },
      "source": [
        "from sklearn.model_selection import cross_val_score, train_test_split, GridSearchCV, RandomizedSearchCV\n",
        "from sklearn import datasets, pipeline\n",
        "from hyperopt import fmin, tpe, hp, STATUS_OK, Trials\n",
        "from hyperopt.pyll import scope\n",
        "from hyperopt.pyll.stochastic import sample\n",
        "import lightgbm as lgb\n",
        "import matplotlib.pyplot as plt\n",
        "import numpy as np\n",
        "import pandas as pd\n",
        "import random\n",
        "import seaborn as sns\n",
        "import time\n",
        "%matplotlib inline\n",
        "\n",
        "import warnings\n",
        "\n",
        "warnings.filterwarnings('ignore')\n",
        "warnings.filterwarnings(action='ignore',category=DeprecationWarning)\n",
        "warnings.filterwarnings(action='ignore',category=FutureWarning)"
      ],
      "execution_count": null,
      "outputs": []
    },
    {
      "cell_type": "markdown",
      "metadata": {
        "id": "bd7V6h0epPDh"
      },
      "source": [
        "dataset reading"
      ]
    },
    {
      "cell_type": "code",
      "metadata": {
        "id": "0QwYzflApORa",
        "colab": {
          "base_uri": "https://localhost:8080/",
          "height": 156
        },
        "outputId": "5b3c96f2-c86b-44a9-daa6-482785867002"
      },
      "source": [
        "from google.colab import drive\n",
        "drive.mount('/content/drive')\n",
        "from google.colab import drive\n",
        "drive.mount('/gdrive')\n",
        "%cd /gdrive"
      ],
      "execution_count": null,
      "outputs": [
        {
          "output_type": "stream",
          "text": [
            "Go to this URL in a browser: https://accounts.google.com/o/oauth2/auth?client_id=947318989803-6bn6qk8qdgf4n4g3pfee6491hc0brc4i.apps.googleusercontent.com&redirect_uri=urn%3aietf%3awg%3aoauth%3a2.0%3aoob&response_type=code&scope=email%20https%3a%2f%2fwww.googleapis.com%2fauth%2fdocs.test%20https%3a%2f%2fwww.googleapis.com%2fauth%2fdrive%20https%3a%2f%2fwww.googleapis.com%2fauth%2fdrive.photos.readonly%20https%3a%2f%2fwww.googleapis.com%2fauth%2fpeopleapi.readonly\n",
            "\n",
            "Enter your authorization code:\n",
            "··········\n",
            "Mounted at /content/drive\n",
            "Mounted at /gdrive\n",
            "/gdrive\n"
          ],
          "name": "stdout"
        }
      ]
    },
    {
      "cell_type": "code",
      "metadata": {
        "id": "-l2drlNnpp9B",
        "colab": {
          "base_uri": "https://localhost:8080/",
          "height": 419
        },
        "outputId": "a9505f37-62ef-45d2-ea6f-f1ebfbd63f30"
      },
      "source": [
        "file = r'/gdrive/My Drive/Colab Notebooks/sorted_data10k.csv'\n",
        "df = pd.read_csv(file)\n",
        "\n",
        "X=df[['step', 'amount', 'oldbalanceOrg', 'newbalanceOrig','oldbalanceDest','newbalanceDest']]  \n",
        "y=df['isFraud']  \n",
        "X_train, X_test, y_train, y_test = train_test_split(X, y, random_state = 1,test_size=0.3)\n",
        "df"
      ],
      "execution_count": null,
      "outputs": [
        {
          "output_type": "execute_result",
          "data": {
            "text/html": [
              "<div>\n",
              "<style scoped>\n",
              "    .dataframe tbody tr th:only-of-type {\n",
              "        vertical-align: middle;\n",
              "    }\n",
              "\n",
              "    .dataframe tbody tr th {\n",
              "        vertical-align: top;\n",
              "    }\n",
              "\n",
              "    .dataframe thead th {\n",
              "        text-align: right;\n",
              "    }\n",
              "</style>\n",
              "<table border=\"1\" class=\"dataframe\">\n",
              "  <thead>\n",
              "    <tr style=\"text-align: right;\">\n",
              "      <th></th>\n",
              "      <th>step</th>\n",
              "      <th>type</th>\n",
              "      <th>amount</th>\n",
              "      <th>nameOrig</th>\n",
              "      <th>oldbalanceOrg</th>\n",
              "      <th>newbalanceOrig</th>\n",
              "      <th>nameDest</th>\n",
              "      <th>oldbalanceDest</th>\n",
              "      <th>newbalanceDest</th>\n",
              "      <th>isFraud</th>\n",
              "      <th>isFlaggedFraud</th>\n",
              "    </tr>\n",
              "  </thead>\n",
              "  <tbody>\n",
              "    <tr>\n",
              "      <th>0</th>\n",
              "      <td>58</td>\n",
              "      <td>TRANSFER</td>\n",
              "      <td>6501303.14</td>\n",
              "      <td>C2083819202</td>\n",
              "      <td>6501303.14</td>\n",
              "      <td>0.00</td>\n",
              "      <td>C1581398768</td>\n",
              "      <td>0.00</td>\n",
              "      <td>0.00</td>\n",
              "      <td>1</td>\n",
              "      <td>0</td>\n",
              "    </tr>\n",
              "    <tr>\n",
              "      <th>1</th>\n",
              "      <td>60</td>\n",
              "      <td>TRANSFER</td>\n",
              "      <td>45807.51</td>\n",
              "      <td>C958487787</td>\n",
              "      <td>45807.51</td>\n",
              "      <td>0.00</td>\n",
              "      <td>C218393296</td>\n",
              "      <td>0.00</td>\n",
              "      <td>0.00</td>\n",
              "      <td>1</td>\n",
              "      <td>0</td>\n",
              "    </tr>\n",
              "    <tr>\n",
              "      <th>2</th>\n",
              "      <td>60</td>\n",
              "      <td>TRANSFER</td>\n",
              "      <td>89014.32</td>\n",
              "      <td>C1517105060</td>\n",
              "      <td>89014.32</td>\n",
              "      <td>0.00</td>\n",
              "      <td>C621322132</td>\n",
              "      <td>0.00</td>\n",
              "      <td>0.00</td>\n",
              "      <td>1</td>\n",
              "      <td>0</td>\n",
              "    </tr>\n",
              "    <tr>\n",
              "      <th>3</th>\n",
              "      <td>60</td>\n",
              "      <td>CASH_OUT</td>\n",
              "      <td>40486.25</td>\n",
              "      <td>C1413149184</td>\n",
              "      <td>40486.25</td>\n",
              "      <td>0.00</td>\n",
              "      <td>C713338583</td>\n",
              "      <td>4716889.90</td>\n",
              "      <td>4757376.15</td>\n",
              "      <td>1</td>\n",
              "      <td>0</td>\n",
              "    </tr>\n",
              "    <tr>\n",
              "      <th>4</th>\n",
              "      <td>60</td>\n",
              "      <td>TRANSFER</td>\n",
              "      <td>40486.25</td>\n",
              "      <td>C46706219</td>\n",
              "      <td>40486.25</td>\n",
              "      <td>0.00</td>\n",
              "      <td>C1894539182</td>\n",
              "      <td>0.00</td>\n",
              "      <td>0.00</td>\n",
              "      <td>1</td>\n",
              "      <td>0</td>\n",
              "    </tr>\n",
              "    <tr>\n",
              "      <th>...</th>\n",
              "      <td>...</td>\n",
              "      <td>...</td>\n",
              "      <td>...</td>\n",
              "      <td>...</td>\n",
              "      <td>...</td>\n",
              "      <td>...</td>\n",
              "      <td>...</td>\n",
              "      <td>...</td>\n",
              "      <td>...</td>\n",
              "      <td>...</td>\n",
              "      <td>...</td>\n",
              "    </tr>\n",
              "    <tr>\n",
              "      <th>9995</th>\n",
              "      <td>36</td>\n",
              "      <td>PAYMENT</td>\n",
              "      <td>12181.86</td>\n",
              "      <td>C1357754408</td>\n",
              "      <td>504485.30</td>\n",
              "      <td>492303.44</td>\n",
              "      <td>M1012233863</td>\n",
              "      <td>0.00</td>\n",
              "      <td>0.00</td>\n",
              "      <td>0</td>\n",
              "      <td>0</td>\n",
              "    </tr>\n",
              "    <tr>\n",
              "      <th>9996</th>\n",
              "      <td>36</td>\n",
              "      <td>CASH_IN</td>\n",
              "      <td>227951.15</td>\n",
              "      <td>C1257683794</td>\n",
              "      <td>59520.00</td>\n",
              "      <td>287471.15</td>\n",
              "      <td>C503650763</td>\n",
              "      <td>434866.17</td>\n",
              "      <td>206915.03</td>\n",
              "      <td>0</td>\n",
              "      <td>0</td>\n",
              "    </tr>\n",
              "    <tr>\n",
              "      <th>9997</th>\n",
              "      <td>36</td>\n",
              "      <td>PAYMENT</td>\n",
              "      <td>2373.64</td>\n",
              "      <td>C1374414349</td>\n",
              "      <td>187951.00</td>\n",
              "      <td>185577.36</td>\n",
              "      <td>M1815765224</td>\n",
              "      <td>0.00</td>\n",
              "      <td>0.00</td>\n",
              "      <td>0</td>\n",
              "      <td>0</td>\n",
              "    </tr>\n",
              "    <tr>\n",
              "      <th>9998</th>\n",
              "      <td>36</td>\n",
              "      <td>PAYMENT</td>\n",
              "      <td>6798.09</td>\n",
              "      <td>C2068628134</td>\n",
              "      <td>57108.00</td>\n",
              "      <td>50309.91</td>\n",
              "      <td>M69196470</td>\n",
              "      <td>0.00</td>\n",
              "      <td>0.00</td>\n",
              "      <td>0</td>\n",
              "      <td>0</td>\n",
              "    </tr>\n",
              "    <tr>\n",
              "      <th>9999</th>\n",
              "      <td>36</td>\n",
              "      <td>PAYMENT</td>\n",
              "      <td>32339.22</td>\n",
              "      <td>C172662710</td>\n",
              "      <td>50309.91</td>\n",
              "      <td>17970.69</td>\n",
              "      <td>M902333239</td>\n",
              "      <td>0.00</td>\n",
              "      <td>0.00</td>\n",
              "      <td>0</td>\n",
              "      <td>0</td>\n",
              "    </tr>\n",
              "  </tbody>\n",
              "</table>\n",
              "<p>10000 rows × 11 columns</p>\n",
              "</div>"
            ],
            "text/plain": [
              "      step      type      amount  ... newbalanceDest  isFraud  isFlaggedFraud\n",
              "0       58  TRANSFER  6501303.14  ...           0.00        1               0\n",
              "1       60  TRANSFER    45807.51  ...           0.00        1               0\n",
              "2       60  TRANSFER    89014.32  ...           0.00        1               0\n",
              "3       60  CASH_OUT    40486.25  ...     4757376.15        1               0\n",
              "4       60  TRANSFER    40486.25  ...           0.00        1               0\n",
              "...    ...       ...         ...  ...            ...      ...             ...\n",
              "9995    36   PAYMENT    12181.86  ...           0.00        0               0\n",
              "9996    36   CASH_IN   227951.15  ...      206915.03        0               0\n",
              "9997    36   PAYMENT     2373.64  ...           0.00        0               0\n",
              "9998    36   PAYMENT     6798.09  ...           0.00        0               0\n",
              "9999    36   PAYMENT    32339.22  ...           0.00        0               0\n",
              "\n",
              "[10000 rows x 11 columns]"
            ]
          },
          "metadata": {
            "tags": []
          },
          "execution_count": 7
        }
      ]
    },
    {
      "cell_type": "code",
      "metadata": {
        "id": "bjAkOTqZqib5",
        "colab": {
          "base_uri": "https://localhost:8080/",
          "height": 34
        },
        "outputId": "1f007f0b-9dc1-4cb9-8e48-2444c8651bc7"
      },
      "source": [
        "from imblearn.under_sampling import NearMiss\n",
        "\n",
        "X_train, X_test, y_train, y_test = train_test_split(X, y, random_state = 1, stratify=y)\n",
        "\n",
        "nr = NearMiss()\n",
        "X_train, y_train = nr.fit_sample(X_train, y_train)\n",
        "np.bincount(y_train)"
      ],
      "execution_count": null,
      "outputs": [
        {
          "output_type": "execute_result",
          "data": {
            "text/plain": [
              "array([856, 856])"
            ]
          },
          "metadata": {
            "tags": []
          },
          "execution_count": 49
        }
      ]
    },
    {
      "cell_type": "code",
      "metadata": {
        "id": "MnZdkTzrq5Mq",
        "colab": {
          "base_uri": "https://localhost:8080/",
          "height": 34
        },
        "outputId": "1af950fd-0fa4-455b-bd40-ddd361c8b809"
      },
      "source": [
        "from imblearn.over_sampling import SMOTE\n",
        "\n",
        "X_train, X_test, y_train, y_test = train_test_split(X, y, random_state = 1, stratify=y)\n",
        "smt = SMOTE()\n",
        "X_train, y_train = smt.fit_sample(X_train, y_train)\n",
        "np.bincount(y_train)"
      ],
      "execution_count": null,
      "outputs": [
        {
          "output_type": "execute_result",
          "data": {
            "text/plain": [
              "array([6644, 6644])"
            ]
          },
          "metadata": {
            "tags": []
          },
          "execution_count": 47
        }
      ]
    },
    {
      "cell_type": "code",
      "metadata": {
        "id": "2NLwTL2xpwhi"
      },
      "source": [
        "pipe = pipeline.Pipeline([\n",
        "    ('clf', lgb.LGBMClassifier())\n",
        "    ])\n",
        "\n",
        "param_gridsearch = {\n",
        "    'clf__learning_rate' : [0.01, 0.1, 1],\n",
        "    'clf__max_depth' : [5, 10, 15],\n",
        "    'clf__n_estimators' : [5, 20, 35], \n",
        "    'clf__num_leaves' : [5, 25, 50],\n",
        "    'clf__boosting_type': ['gbdt', 'dart'],\n",
        "    'clf__colsample_bytree' : [0.6, 0.75, 1],\n",
        "    'clf__reg_lambda': [0.01, 0.1, 1],\n",
        "}\n",
        "\n",
        "param_random = {\n",
        "    'clf__learning_rate': list(np.logspace(np.log(0.01), np.log(1), num = 500, base=3)),\n",
        "    'clf__max_depth': list(range(5, 15)),\n",
        "    'clf__n_estimators': list(range(5, 35)),\n",
        "    'clf__num_leaves': list(range(5, 50)),\n",
        "    'clf__boosting_type': ['gbdt', 'dart'],\n",
        "    'clf__colsample_bytree': list(np.linspace(0.6, 1, 500)),\n",
        "    'clf__reg_lambda': list(np.linspace(0, 1, 500)),\n",
        "}\n",
        "\n",
        "param_hyperopt= {\n",
        "    'learning_rate': hp.loguniform('learning_rate', np.log(0.01), np.log(1)),\n",
        "    'max_depth': scope.int(hp.quniform('max_depth', 5, 15, 1)),\n",
        "    'n_estimators': scope.int(hp.quniform('n_estimators', 5, 35, 1)),\n",
        "    'num_leaves': scope.int(hp.quniform('num_leaves', 5, 50, 1)),\n",
        "    'boosting_type': hp.choice('boosting_type', ['gbdt', 'dart']),\n",
        "    'colsample_bytree': hp.uniform('colsample_by_tree', 0.6, 1.0),\n",
        "    'reg_lambda': hp.uniform('reg_lambda', 0.0, 1.0),\n",
        "}"
      ],
      "execution_count": null,
      "outputs": []
    },
    {
      "cell_type": "code",
      "metadata": {
        "id": "OMHsdCF6qJHp"
      },
      "source": [
        "def search(pipeline, parameters, X_train, y_train, X_test, y_test, optimizer='grid_search', n_iter=None):\n",
        "    \n",
        "    start = time.time() \n",
        "    \n",
        "    if optimizer == 'grid_search':\n",
        "        grid_obj = GridSearchCV(estimator=pipeline,\n",
        "                                param_grid=parameters,\n",
        "                                cv=5,\n",
        "                                refit=True,\n",
        "                                return_train_score=False,\n",
        "                                scoring = 'accuracy',\n",
        "                               )\n",
        "        grid_obj.fit(X_train, y_train,)\n",
        "    \n",
        "    elif optimizer == 'random_search':\n",
        "        grid_obj = RandomizedSearchCV(estimator=pipeline,\n",
        "                            param_distributions=parameters,\n",
        "                            cv=5,\n",
        "                            n_iter=n_iter,\n",
        "                            refit=True,\n",
        "                            return_train_score=False,\n",
        "                            scoring = 'accuracy',\n",
        "                            random_state=1)\n",
        "        grid_obj.fit(X_train, y_train,)\n",
        "    \n",
        "    else:\n",
        "        print('enter search method')\n",
        "        return\n",
        "\n",
        "    estimator = grid_obj.best_estimator_\n",
        "    cvs = cross_val_score(estimator, X_train, y_train, cv=5)\n",
        "    results = pd.DataFrame(grid_obj.cv_results_)\n",
        "    \n",
        "    print(\"##### Results\")\n",
        "    print(\"Score best parameters: \", grid_obj.best_score_)\n",
        "    print(\"Best parameters: \", grid_obj.best_params_)\n",
        "    print(\"Cross-validation Score: \", cvs.mean())\n",
        "    print(\"Test Score: \", estimator.score(X_test, y_test))\n",
        "    print(\"Time elapsed: \", time.time() - start)\n",
        "    print(\"Parameter combinations evaluated: \",results.shape[0])\n",
        "    \n",
        "    return results, estimator"
      ],
      "execution_count": null,
      "outputs": []
    },
    {
      "cell_type": "code",
      "metadata": {
        "id": "PsGO5sHlqO9x",
        "colab": {
          "base_uri": "https://localhost:8080/",
          "height": 156
        },
        "outputId": "a0628e6c-96a5-447e-c512-d4fd14b73528"
      },
      "source": [
        "\n",
        "num_eval =75\n",
        "#results_grid, estimator_grid = search(pipe, param_gridsearch, X_train, y_train, X_test, y_test, 'grid_search')\n",
        "results_random, estimator_random = search(pipe, param_random, X_train, y_train, X_test, y_test, 'random_search', num_eval)"
      ],
      "execution_count": null,
      "outputs": [
        {
          "output_type": "stream",
          "text": [
            "##### Results\n",
            "Score best parameters:  0.9976676384839649\n",
            "Best parameters:  {'clf__reg_lambda': 0.024048096192384766, 'clf__num_leaves': 43, 'clf__n_estimators': 10, 'clf__max_depth': 14, 'clf__learning_rate': 0.7229292863898297, 'clf__colsample_bytree': 0.7226452905811623, 'clf__boosting_type': 'dart'}\n",
            "Cross-validation Score:  0.9976676384839649\n",
            "Test Score:  0.4216\n",
            "Time elapsed:  3.7991268634796143\n",
            "Parameter combinations evaluated:  75\n"
          ],
          "name": "stdout"
        }
      ]
    },
    {
      "cell_type": "code",
      "metadata": {
        "id": "En3TCKN-rPFK"
      },
      "source": [
        "\n",
        "def hyperopt(param_space, X_train, y_train, X_test, y_test, num_eval):\n",
        "    \n",
        "    start = time.time()\n",
        "    \n",
        "    def objective_function(params):\n",
        "        clf = lgb.LGBMClassifier(**params)\n",
        "        score = cross_val_score(clf, X_train, y_train, cv=5).mean()\n",
        "        return {'loss': -score, 'status': STATUS_OK}\n",
        "\n",
        "    trials = Trials()\n",
        "    best_param = fmin(objective_function, \n",
        "                      param_space, \n",
        "                      algo=tpe.suggest, \n",
        "                      max_evals=num_eval, \n",
        "                      trials=trials,\n",
        "                      rstate= np.random.RandomState(1))\n",
        "    loss = [x['result']['loss'] for x in trials.trials]\n",
        "    \n",
        "    best_param_values = [x for x in best_param.values()]\n",
        "    \n",
        "    if best_param_values[0] == 0:\n",
        "        boosting_type = 'gbdt'\n",
        "    else:\n",
        "        boosting_type= 'dart'\n",
        "    \n",
        "    clf_best = lgb.LGBMClassifier(learning_rate=best_param_values[2],\n",
        "                                  num_leaves=int(best_param_values[5]),\n",
        "                                  max_depth=int(best_param_values[3]),\n",
        "                                  n_estimators=int(best_param_values[4]),\n",
        "                                  boosting_type=boosting_type,\n",
        "                                  colsample_bytree=best_param_values[1],\n",
        "                                  reg_lambda=best_param_values[6],\n",
        "                                 )\n",
        "                                  \n",
        "    clf_best.fit(X_train, y_train)\n",
        "    \n",
        "    print(\"\")\n",
        "    print(\"##### Results\")\n",
        "    print(\"Score best parameters: \", min(loss)*-1)\n",
        "    print(\"Best parameters: \", best_param)\n",
        "    print(\"Test Score: \", clf_best.score(X_test, y_test))\n",
        "    print(\"Time elapsed: \", time.time() - start)\n",
        "    print(\"Parameter combinations evaluated: \", num_eval)\n",
        "    \n",
        "    return trials"
      ],
      "execution_count": null,
      "outputs": []
    },
    {
      "cell_type": "code",
      "metadata": {
        "id": "vEBUF9wbrSQp",
        "colab": {
          "base_uri": "https://localhost:8080/",
          "height": 153
        },
        "outputId": "8f94ec95-8ab7-476d-9db6-bc2fcd94fe9c"
      },
      "source": [
        "results_hyperopt = hyperopt(param_hyperopt, X_train, y_train, X_test, y_test, num_eval)\n"
      ],
      "execution_count": null,
      "outputs": [
        {
          "output_type": "stream",
          "text": [
            "100%|██████████| 75/75 [00:05<00:00, 12.63it/s, best loss: -0.9976676384839649]\n",
            "\n",
            "##### Results\n",
            "Score best parameters:  0.9976676384839649\n",
            "Best parameters:  {'boosting_type': 0, 'colsample_by_tree': 0.7109394344497755, 'learning_rate': 0.7554663099349869, 'max_depth': 14.0, 'n_estimators': 27.0, 'num_leaves': 32.0, 'reg_lambda': 0.060540396849595335}\n",
            "Test Score:  0.5312\n",
            "Time elapsed:  5.98123025894165\n",
            "Parameter combinations evaluated:  75\n"
          ],
          "name": "stdout"
        }
      ]
    },
    {
      "cell_type": "code",
      "metadata": {
        "id": "DWJ8OW2UraX5"
      },
      "source": [
        "# Retrieve Hyperopt scores\n",
        "\n",
        "hyperopt_scores = [trial['result']['loss']*-1 for trial in results_hyperopt.trials]\n",
        "hyperopt_scores = np.maximum.accumulate(hyperopt_scores)\n",
        "\n",
        "# Retrieve Random Search scores\n",
        "\n",
        "random_scores = np.maximum.accumulate(results_random['mean_test_score'])"
      ],
      "execution_count": null,
      "outputs": []
    },
    {
      "cell_type": "code",
      "metadata": {
        "id": "Rf5jkUgdrfn5",
        "colab": {
          "base_uri": "https://localhost:8080/",
          "height": 428
        },
        "outputId": "f05a0726-6d0e-47a7-eeef-274316bafc30"
      },
      "source": [
        "# Plot evaluation scores of each method over time\n",
        "\n",
        "f, ax = plt.subplots(figsize=(7,6))\n",
        "sns.set_palette(\"husl\")\n",
        "sns.despine()\n",
        "ax = sns.lineplot(x=[x for x in range(num_eval)], y=random_scores, linewidth = 2)\n",
        "ax = sns.lineplot(x=[x for x in range(num_eval)], y=hyperopt_scores, linewidth = 2)\n",
        "plt.title(\"Finding the optimum\", fontsize=18)\n",
        "plt.xlabel('Iteration', fontsize=12)\n",
        "plt.ylabel('Cross-Validation Score (accuracy, %)', fontsize=12)\n",
        "plt.legend(loc='lower right', labels=['Random Search', 'Hyperopt'])\n",
        "plt.setp(ax.get_legend().get_texts(), fontsize='12')"
      ],
      "execution_count": null,
      "outputs": [
        {
          "output_type": "execute_result",
          "data": {
            "text/plain": [
              "[None, None, None, None]"
            ]
          },
          "metadata": {
            "tags": []
          },
          "execution_count": 20
        },
        {
          "output_type": "display_data",
          "data": {
            "image/png": "[encoded data removed]",
            "text/plain": [
              "<Figure size 504x432 with 1 Axes>"
            ]
          },
          "metadata": {
            "tags": []
          }
        }
      ]
    },
    {
      "cell_type": "code",
      "metadata": {
        "id": "0yiNkmKIrmYB"
      },
      "source": [
        "\n",
        "# Randomly sample from learning rate and num_leaves distribution\n",
        "\n",
        "learning_rate_space = {'learning_rate': hp.loguniform('learning_rate', np.log(0.01), np.log(1))}\n",
        "num_leaves_space = {'num_leaves': scope.int(hp.quniform('num_leaves', 5, 50, 1))}\n",
        "\n",
        "learning_rate_dist = [sample(learning_rate_space)['learning_rate'] for x in range(1000)]\n",
        "num_leaves_dist = [sample(num_leaves_space)['num_leaves'] for x in range(1000)]"
      ],
      "execution_count": null,
      "outputs": []
    },
    {
      "cell_type": "code",
      "metadata": {
        "id": "tegSGvvfrqJi",
        "colab": {
          "base_uri": "https://localhost:8080/",
          "height": 292
        },
        "outputId": "31ff08e7-38c6-43ce-f27c-d54b4cb9b315"
      },
      "source": [
        "num_eval =500\n",
        "results_random, estimator_random = search(pipe, param_random, X_train, y_train, X_test, y_test, 'random_search', num_eval)\n",
        "results_hyperopt = hyperopt(param_hyperopt, X_train, y_train, X_test, y_test, num_eval)"
      ],
      "execution_count": null,
      "outputs": [
        {
          "output_type": "stream",
          "text": [
            "##### Results\n",
            "Score best parameters:  0.9980434436004331\n",
            "Best parameters:  {'clf__reg_lambda': 0.19639278557114226, 'clf__num_leaves': 16, 'clf__n_estimators': 33, 'clf__max_depth': 7, 'clf__learning_rate': 0.3778221856813538, 'clf__colsample_bytree': 0.632064128256513, 'clf__boosting_type': 'dart'}\n",
            "Cross-validation Score:  0.9980434436004331\n",
            "Test Score:  0.998\n",
            "Time elapsed:  90.5651957988739\n",
            "Parameter combinations evaluated:  500\n",
            "100%|██████████| 500/500 [02:21<00:00,  2.61it/s, best loss: -0.9981940176480599]\n",
            "\n",
            "##### Results\n",
            "Score best parameters:  0.9981940176480599\n",
            "Best parameters:  {'boosting_type': 0, 'colsample_by_tree': 0.660755781449866, 'learning_rate': 0.1639253772037669, 'max_depth': 9.0, 'n_estimators': 35.0, 'num_leaves': 26.0, 'reg_lambda': 0.02208950637190993}\n",
            "Test Score:  0.9972\n",
            "Time elapsed:  141.41037368774414\n",
            "Parameter combinations evaluated:  500\n"
          ],
          "name": "stdout"
        }
      ]
    },
    {
      "cell_type": "code",
      "metadata": {
        "id": "EpYN8jdOruUR"
      },
      "source": [
        "# Retrieve learning rates and num_leaves' used by Hyperopt\n",
        "\n",
        "learning_rate_hp = [trial['misc']['vals']['learning_rate'][0] for trial in results_hyperopt.trials]\n",
        "num_leaves_hp = [trial['misc']['vals']['num_leaves'][0] for trial in results_hyperopt.trials]"
      ],
      "execution_count": null,
      "outputs": []
    },
    {
      "cell_type": "code",
      "metadata": {
        "id": "dl4jwmL6x4Ak",
        "colab": {
          "base_uri": "https://localhost:8080/",
          "height": 34
        },
        "outputId": "6c392fd2-7d50-4586-86dd-0ba66c5c5090"
      },
      "source": [
        "from sklearn.ensemble import RandomForestClassifier\n",
        "clf=RandomForestClassifier(n_estimators=35,max_depth=9,min_samples_leaf=26)\n",
        "clf.fit(X_train,y_train)\n",
        "\n",
        "y_pred=clf.predict(X_test)\n",
        "\n",
        "from sklearn import metrics\n",
        "print(\"Accuracy:\",metrics.accuracy_score(y_test, y_pred))"
      ],
      "execution_count": null,
      "outputs": [
        {
          "output_type": "stream",
          "text": [
            "Accuracy: 0.3668\n"
          ],
          "name": "stdout"
        }
      ]
    },
    {
      "cell_type": "code",
      "metadata": {
        "id": "dRFp5knLrxNq",
        "colab": {
          "base_uri": "https://localhost:8080/",
          "height": 428
        },
        "outputId": "c4a5a66c-eee1-47cc-d99f-b02688a267c5"
      },
      "source": [
        "# Plot learning rate sampling distribution vs. values used by Hyperopt\n",
        "\n",
        "f, ax = plt.subplots(figsize=(10,6))\n",
        "sns.set_palette(\"husl\")\n",
        "sns.despine()\n",
        "ax = sns.kdeplot(learning_rate_dist, label = 'Sampling Distribution', linewidth = 3)\n",
        "ax = sns.kdeplot(learning_rate_hp, label = 'Hyperopt', linewidth = 3)\n",
        "plt.title(\"Learning Rate\", fontsize=18, fontweight='bold')\n",
        "plt.xlabel('Learning Rate', fontsize=12, fontweight='bold')\n",
        "plt.ylabel('Density', fontsize=12, fontweight='bold');\n",
        "plt.legend()\n",
        "plt.setp(ax.get_legend().get_texts(), fontsize='12', fontweight='bold')\n"
      ],
      "execution_count": null,
      "outputs": [
        {
          "output_type": "execute_result",
          "data": {
            "text/plain": [
              "[None, None, None, None]"
            ]
          },
          "metadata": {
            "tags": []
          },
          "execution_count": 24
        },
        {
          "output_type": "display_data",
          "data": {
            "image/png": "[encoded data removed]",
            "text/plain": [
              "<Figure size 720x432 with 1 Axes>"
            ]
          },
          "metadata": {
            "tags": []
          }
        }
      ]
    },
    {
      "cell_type": "code",
      "metadata": {
        "id": "vTKu7e22r0Qh",
        "colab": {
          "base_uri": "https://localhost:8080/",
          "height": 428
        },
        "outputId": "998b94e4-37b9-4e4a-f57a-724323ee6e51"
      },
      "source": [
        "# Plot num_leaves sampling distribution vs. values used by Hyperopt\n",
        "\n",
        "f, ax = plt.subplots(figsize=(10,6))\n",
        "sns.set_palette(\"husl\")\n",
        "sns.despine()\n",
        "ax = sns.kdeplot(num_leaves_dist, label = 'Sampling Distribution', linewidth = 3)\n",
        "ax = sns.kdeplot(num_leaves_hp, label = 'Hyperopt', linewidth = 3)\n",
        "plt.title(\"Number of leaves\", fontsize=18, fontweight='bold')\n",
        "plt.xlabel('Number of leaves', fontsize=12, fontweight='bold')\n",
        "plt.ylabel('Density', fontsize=12, fontweight='bold')\n",
        "plt.legend()\n",
        "plt.setp(ax.get_legend().get_texts(), fontsize='12', fontweight='bold')"
      ],
      "execution_count": null,
      "outputs": [
        {
          "output_type": "execute_result",
          "data": {
            "text/plain": [
              "[None, None, None, None]"
            ]
          },
          "metadata": {
            "tags": []
          },
          "execution_count": 25
        },
        {
          "output_type": "display_data",
          "data": {
            "image/png": "[encoded data removed]",
            "text/plain": [
              "<Figure size 720x432 with 1 Axes>"
            ]
          },
          "metadata": {
            "tags": []
          }
        }
      ]
    }
  ]
}